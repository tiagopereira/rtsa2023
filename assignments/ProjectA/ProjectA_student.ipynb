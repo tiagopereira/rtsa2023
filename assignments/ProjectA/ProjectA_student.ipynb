{
 "cells": [
  {
   "cell_type": "markdown",
   "id": "c85df588-6172-404a-875c-711b88b1ad3e",
   "metadata": {
    "tags": []
   },
   "source": [
    "**RTSA 2023**\n",
    "\n",
    "*Replace this line with your name.*\n",
    "\n",
    "# Project A: Basic Line Formation\n",
    "\n",
    "\n",
    "#### Header and imports"
   ]
  },
  {
   "cell_type": "code",
   "execution_count": 8,
   "id": "af289104-9bce-4215-be9c-f66aa7fb69e2",
   "metadata": {},
   "outputs": [],
   "source": [
    "# Modify this cell to customise your imports"
   ]
  },
  {
   "cell_type": "markdown",
   "id": "19d1b5b2-bd0a-4da8-9eae-0e0a0812f78b",
   "metadata": {},
   "source": [
    "### Exercise 1: Saha-Boltzmann populations of a simplified Ca atom [10 points]\n",
    "\n",
    "<div style=\"background-color:#e6ffe6; padding:10px; border-style:\n",
    "solid;; border-color:#00e600; border-width:1px\">\n",
    "    \n",
    "\n",
    "* *[5 points]* Speculate how ionisation can fully deplete a stage (e.g. all atoms can transition from neutral to ionised) while excitation puts only a few atoms in levels just below the ionisation level. Hint: what is the limit of the Saha and Boltzman ratios for infinite temperature?\n",
    "\n",
    "* *[5 points]* Plot a \"Payne curve\" for the simplified Ca atom (in `Ca_atom.txt`) using a temperature range of 100 - 175,000 K. Start with $P_e$ = 100 Pa and study how $P_e$ affects the diagram. What is going on?\n",
    "\n",
    "</div>"
   ]
  },
  {
   "cell_type": "code",
   "execution_count": 4,
   "id": "3f40b12c-824f-46da-8948-2320aa4a776f",
   "metadata": {},
   "outputs": [],
   "source": [
    "# Your answers here"
   ]
  },
  {
   "cell_type": "markdown",
   "id": "80f982bf-9811-48db-ac2a-203af7b3454a",
   "metadata": {
    "tags": []
   },
   "source": [
    "### Exercise 2: Solar Ca$^+$K versus H$\\alpha$ [25 points]\n",
    "\n",
    "<div style=\"background-color:#e6ffe6; padding:10px; border-style:\n",
    "solid;; border-color:#00e600; border-width:1px\">\n",
    "\n",
    "* *[7 points]* Explain qualitatively why the solar Ca$^+$ K line is much stronger than the solar H$\\alpha$ line, even though hydrogen is not ionised in the solar photosphere and low chromosphere ($T \\approx$ 4000 - 6000 K) where these lines are formed, and calcium is far less abundant than hydrogen in the Sun: the Ca/H abundance ratio is only $N_\\mathrm{Ca}/N_\\mathrm{H} = 2 \\times 10^{−6}$. Assume again that the observed line strength scales with the lower-level population density (which it does, although nonlinearly through a \"curve of growth\" as you will see in Project 2).\n",
    "\n",
    "* *[4 points]* Prove your explanation by computing and plotting the expected strength ratio of these two lines as function of temperature for $P_e = 10^2$ dyne cm$^{-2}$. Make use of `H_atom.txt` and `Ca_atom.txt`.\n",
    "    \n",
    "* *[8 points]* The relative population change $(\\Delta n / \\Delta T) / n$ is useful to to diagnose the temperature sensitivity of the populations of a given atomic stage. Plot in a log scale the relative population changes for the lower levels of Ca$^+$K and H$\\alpha$ vs. temperature, using  $\\Delta T=$ 1 K. Around $T=$ 5600 K the Ca$^+$K curve dips down to very  small values; the H$\\alpha$ curve does that around $T=$ 9500  K. Thus, at $T \\approx$ 5600 K the temperature sensitivity of Ca$^+$K is much smaller than the temperature sensitivity of H$\\alpha$. Compare these plots with plots of the populations of the lower levels for the two lines (normalise them to the maximum value of each for easier comparison). You should find that the population plots have a peak and two flanks. Explain each flank of the population plots and the dips in the temperature sensitivity plots.\n",
    "\n",
    "* *[6 points]* Find at which temperature the hydrogen in stellar photospheres with $P_e =$ 10 Pa is about 50% ionised. Plot the neutral and ionised fractions of hydrogen as a function of temperature. This temperature defines the classic limit between cool stars and hot stars. Is the Sun a cool star or a hot star?\n",
    "    \n",
    "</div>"
   ]
  },
  {
   "cell_type": "code",
   "execution_count": 3,
   "id": "c2a47606-dbc3-4977-b533-b8c07fa0e020",
   "metadata": {},
   "outputs": [],
   "source": [
    "# Your answers here"
   ]
  },
  {
   "cell_type": "markdown",
   "id": "5b0afe9a-a1eb-4da6-a11d-e0c46dff80fa",
   "metadata": {
    "tags": []
   },
   "source": [
    "### Exercise 3: Spectral lines from a solar reversing layer [30 points]\n",
    "\n",
    "<div style=\"background-color:#e6ffe6; padding:10px; border-style:\n",
    "solid;; border-color:#00e600; border-width:1px\">\n",
    "\n",
    "* *[7 points]* Compute and plot the emergent line profiles using a Schuster-Schwarzschild model for a reference wavelength of 500 nm, writing code for this purpose. Try changing the parameters (`temp_surface`, `temp_layer`, `a`, `tau0`) to see if you can obtain a saturated line profile (flat bottom). Which parameter(s) are more important in determining this?\n",
    "\n",
    "* *[7 points]* Study line profiles with different $\\tau_0$, using `tau0 = 10 ** numpy.linspace(-2, 2, 9)`. How do you explain the profile shapes for $\\tau(0) \\ll 1$? Why is there a low-intensity saturation limit for $\\tau \\gg 1$? Why do the line wings develop only for very large $\\tau(0)$? \n",
    "\n",
    "* *[8 points]* Now study the dependence of these line profiles on wavelength by repeating the above for $\\lambda=$ 200 nm (ultraviolet) and $\\lambda=$ 1000 nm (near infrared). What sets the top value $I_{\\rm cont}$ and the limit value reached at line center, $I_{u=0}$? Check these values by computing them directly. What happens to these values at other wavelengths?  \n",
    "\n",
    "* *[8 points]* Make a figure with plots for the above: line profiles for several values of $\\tau_0$, and the three different wavelengths: 200, 500, and 1000 nm. However, normalise each line profile by its continuum intensity: `intensity /= intensity[0]` (observed spectra are usually normalised this way because absolute calibrations are often missing). Explain the wavelength dependencies in this plot.\n",
    "\n",
    "</div>"
   ]
  },
  {
   "cell_type": "code",
   "execution_count": 7,
   "id": "d45924ff-bca2-4aa0-9d95-9d8e39bafcd0",
   "metadata": {},
   "outputs": [],
   "source": [
    "# Your answers here"
   ]
  },
  {
   "cell_type": "markdown",
   "id": "c58bb8f0-9a29-4e5a-aabc-7eba57a7dfcf",
   "metadata": {},
   "source": [
    "### Exercise 4: The curve of growth [30 points]\n",
    "\n",
    "<div style=\"background-color:#e6ffe6; padding:10px; border-style:\n",
    "solid;; border-color:#00e600; border-width:1px\">\n",
    "\n",
    "* *[7 points]* Using the code from Exercise 3, compute and plot a curve of growth by plotting $W_\\lambda$ against $\\tau_0$ on a log-log plot. Explain what happens in the three different parts.  \n",
    "\n",
    "* *[10 points]* The first part has slope 1:1, the third part has slope 1:2 in this log-log plot.  Why?\n",
    "\n",
    "* *[7 points]* Which parameter controls the location of the onset of the third part? Give a rough estimate of its value for solar iron lines through comparison with the given figure from Wright (1948).\n",
    "\n",
    "* *[6 points]* Which parameter should you increase to produce emission lines instead of absorption lines? Change it accordingly and modify the code to produce emission profiles and an emission-line curve of growth. (To avoid taking the log of negative $W_\\lambda$, plot the absolute value of $W_\\lambda$.)\n",
    "    \n",
    "</div>"
   ]
  },
  {
   "cell_type": "code",
   "execution_count": 6,
   "id": "f7c7212a-9ba5-4efc-96c9-abf41d9bdd27",
   "metadata": {},
   "outputs": [],
   "source": [
    "# Your answers here"
   ]
  }
 ],
 "metadata": {
  "kernelspec": {
   "display_name": "Python 3 (ipykernel)",
   "language": "python",
   "name": "python3"
  },
  "language_info": {
   "codemirror_mode": {
    "name": "ipython",
    "version": 3
   },
   "file_extension": ".py",
   "mimetype": "text/x-python",
   "name": "python",
   "nbconvert_exporter": "python",
   "pygments_lexer": "ipython3",
   "version": "3.10.8"
  }
 },
 "nbformat": 4,
 "nbformat_minor": 5
}
