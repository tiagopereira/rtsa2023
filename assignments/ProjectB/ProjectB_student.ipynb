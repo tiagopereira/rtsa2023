{
 "cells": [
  {
   "cell_type": "markdown",
   "id": "66cf63fe-6596-41b8-bcc4-59bf8f62bd0c",
   "metadata": {
    "tags": []
   },
   "source": [
    "**RTSA 2023**\n",
    "\n",
    "*Replace this line with your name.*\n",
    "\n",
    "# Project B: LTE Line Formation\n",
    "\n",
    "#### Header and imports"
   ]
  },
  {
   "cell_type": "code",
   "execution_count": 8,
   "id": "9f279424-c6c2-4690-83ce-40dbfbf86794",
   "metadata": {},
   "outputs": [],
   "source": [
    "# Modify this cell to customise your imports"
   ]
  },
  {
   "cell_type": "markdown",
   "id": "d1017525-c655-44f7-890d-2374589dead9",
   "metadata": {
    "tags": []
   },
   "source": [
    "### Exercise 1: Model atmospheres and continuum extinction [20 points]\n",
    "\n",
    "\n",
    "<div style=\"background-color:#e6ffe6; padding:10px; border-style:\n",
    "solid;; border-color:#00e600; border-width:1px\">\n",
    "    \n",
    "* *[6 points]* Using the FALC atmosphere, plot the ionisation fraction of hydrogen and temperature vs height side by side (use a log plot, and clip the temperature at 10,000 K). Why does the ionisation fraction plot resemble the temperature? And why is its shape a bit different (appears \"tilted\") from the temperature plot?\n",
    "\n",
    "* *[7 points]* Plot the extinction coefficient $\\alpha_\\lambda^c$ using only H$^-$ extinction (bound-free and free-free, use `compute_hminus_cross_section`) as function of wavelength, for wavelengths between 300-4000 nm, and for the temperature and density at the solar surface (height = 0) in the FALC model. Now, on a separate figure plot the observed solar continuum intensity in brightness temperature units:\n",
    "    1. Read the intensity from the file `solspect.dat` (first column is wavelength in μm, and the last column is $I_\\lambda^c$ in units of $10^{10}$ erg s$^{-1}$ cm$^{-2}$ μm$^{-1}$ sr$^{-1}$). \n",
    "    2. Invert the Planck function analytically to obtain an equation that converts from intensity $I_\\lambda$ into brightness temperature $T_b$ (defined by $B_\\lambda(T_b) \\equiv I_\\lambda$).\n",
    "    3. Convert $I_\\lambda^c$ to brightness temperature, and plot it against wavelength. \n",
    "    4. Discuss the shape of this curve, and how it is related to the H$^-$ extinction plot. The curve peaks near $\\lambda$ = 1.6 μm. What does that mean for the radiation escape at this wavelength?\n",
    "\n",
    "\n",
    "* *[7 points]* Compute $\\alpha_\\lambda^c$ from H$^-$ as a function of height for the FALC model, at $\\lambda$ = 0.5 μm. Do the same for $\\alpha^T$, the Thomson scattering off free electrons, which can be obtained by the wavelength-independent Thomson cross section:  \n",
    "\\begin{equation*}\n",
    "        \\sigma^{\\rm T} = 6.652 \\times 10^{-29} \\rm{m}^2.\n",
    "\\end{equation*} \n",
    "Plot $\\alpha^c$ from H$^-$, $\\alpha^T$ and the total $\\alpha_\\lambda^c=\\alpha_\\lambda^{H-} + \\alpha^T$ at 0.5 μm as a function of height for the FALC model. Discuss.\n",
    "    \n",
    "</div>"
   ]
  },
  {
   "cell_type": "code",
   "execution_count": null,
   "id": "9c204e3f-2573-40e1-a25b-787eaca1f473",
   "metadata": {},
   "outputs": [],
   "source": [
    "# Your answers here"
   ]
  },
  {
   "cell_type": "markdown",
   "id": "9f990d14-3390-40f2-ba7c-7c3501932306",
   "metadata": {
    "tags": []
   },
   "source": [
    "### Exercise 2: Continuum height of formation and contribution function [35 points]\n",
    "\n",
    "<div style=\"background-color:#e6ffe6; padding:10px; border-style:\n",
    "solid;; border-color:#00e600; border-width:1px\">\n",
    "    \n",
    "* *[6 points]* Using $\\alpha^c$ you computed previously (from H$^-$ and Thomson scattering) from the FALC model, use equation (4) to compute $<\\!h\\!>$, the  mean height of formation at 500 nm, and use equation (3) to compute the contribution function also at 500 nm. Plot the contribution function (normalise by maximum) vs. height, and overplot $<\\!h\\!>$ as a vertical line. Discuss the plot and the meaning of $<\\!h\\!>$. To complement the discussion, plot on a separate figure the same contribution function but vs the optical depth at 500 nm (use log scale in x axis), and overplot $\\tau_{500}$=1 as a vertical line. Discuss the relation between the two plots.\n",
    "    \n",
    "* *[7 points]* Compare the contribution functions from the FALC model (use same $\\alpha^c$) at $\\lambda$ = 0.5, 1, 1.6, 5 μm (all in one plot) and discuss what causes the changes with wavelength.\n",
    "\n",
    "* *[10 points]* With 3D atmospheres, there is no single height of formation, since radiation will behave differently for each 1D column. One can compute $<\\!h\\!>$ and the contribution function per column, but a related (and faster to compute) quantity is the height where the optical depth reaches unity, $h(\\tau_\\lambda=1)$. Compute $\\tau_{500}$ for each vertical column in the 3D model, and compute $h(\\tau_{500}=1)$ by interpolating, for each column, the curve of $\\tau_{500}$ vs height. Your $h(\\tau_{500}=1)$ should be a 2D array. Plot a histogram of its values, and then the array itself as a 3D surface plot (see below for hints on how to make this plot). Discuss the variations of $h(\\tau_{500}=1)$.\n",
    "\n",
    "* *[12 points]* Compute the continuous intensity at 500 nm from the 3D atmosphere (top of the box) at three viewing angles: $\\mu$=1 (vertical), 0.4 and 0.2. Rotate only by the polar angle, do not perform an azimuthal rotation. Plot the intensity maps with identical physical sizes in the x and y axes.\n",
    "    \n",
    "</div>"
   ]
  },
  {
   "cell_type": "code",
   "execution_count": null,
   "id": "6ba8af6d-3233-4df6-a399-e0c3d60d47a6",
   "metadata": {},
   "outputs": [],
   "source": [
    "# Your answers here"
   ]
  },
  {
   "cell_type": "markdown",
   "id": "9c35c20b-4caa-4826-808a-6f61b40d1d49",
   "metadata": {
    "tags": []
   },
   "source": [
    "### Exercise 3: Computing the Na I D line profile [40 points]\n",
    "\n",
    "<div style=\"background-color:#e6ffe6; padding:10px; border-style:\n",
    "solid;; border-color:#00e600; border-width:1px\">\n",
    "\n",
    "* *[15 points]* Compute the Na I D$_1$ intensity at $\\mu$=1 and 0.2 from the FALC model. Calculate the profile for about 200 wavelength points, centred at the line core, and extending 0.1 nm on either side. Plot the $\\mu$=1 normalised line profile against the observations from `int_nad.dat` and discuss the differences. Explain why your computed profile has a line-centre reversal and the observations do not. Discuss the differences between the $\\mu$=1 and 0.2 profiles (plot them in an absolute scale, not normalised), and explain the centre-to-limb variation at the line core and wings.\n",
    "    \n",
    "* *[10 points]* Now calculate the $\\mu$=1 intensity for the 3D model, taking into account the Doppler shifts at each column. Compute the spatially-averaged line profile, and plot it against a selection of line profiles from different xy points of the simulation (e.g. every 10th point in the y and x directions), so you can see the spatial variations between line profiles).\n",
    "    \n",
    "\n",
    "* *[15 points]* After you compute the intensities in the point above, you should obtain an array whose shape is `(nwave, nx, ny)`. Plot a spectrogram along one row or column of the simulation (e.g. `intensity_3d[:, 0]`), where the x axis is wavelength and the y axis is physical distance in Mm. You should see the meandering shifts of the line core, caused by Doppler motions. Exploring spectrograms from different slices, try to find a simulation column for which the line core peak is stronger (or comparable) than the intensity in the far wings. Compare with a different location where the wings are much stronger than the line core. Plot the two spectra and, based on your radiative transfer knowledge, explain the reason why they look so different. (Hint: look at the two source functions.)\n",
    "</div>"
   ]
  },
  {
   "cell_type": "code",
   "execution_count": null,
   "id": "d866f42a-d941-4c10-bbad-d8c13ca9a18d",
   "metadata": {},
   "outputs": [],
   "source": [
    "# Your answers here"
   ]
  }
 ],
 "metadata": {
  "kernelspec": {
   "display_name": "Python 3 (ipykernel)",
   "language": "python",
   "name": "python3"
  },
  "language_info": {
   "codemirror_mode": {
    "name": "ipython",
    "version": 3
   },
   "file_extension": ".py",
   "mimetype": "text/x-python",
   "name": "python",
   "nbconvert_exporter": "python",
   "pygments_lexer": "ipython3",
   "version": "3.10.8"
  }
 },
 "nbformat": 4,
 "nbformat_minor": 5
}
