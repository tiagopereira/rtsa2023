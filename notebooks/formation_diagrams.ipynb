{
 "cells": [
  {
   "cell_type": "code",
   "execution_count": 1,
   "metadata": {},
   "outputs": [],
   "source": [
    "%matplotlib inline\n",
    "import numpy\n",
    "import matplotlib.pyplot as plt\n",
    "from astropy import units\n",
    "from scipy.integrate import cumtrapz\n",
    "\n",
    "# Optional:\n",
    "from astropy.visualization import quantity_support\n",
    "from matplotlib_inline.backend_inline import set_matplotlib_formats\n",
    "quantity_support()\n",
    "set_matplotlib_formats('svg')"
   ]
  },
  {
   "cell_type": "markdown",
   "metadata": {},
   "source": [
    "#### Generating input\n",
    "* extinction ($\\alpha_\\nu$)\n",
    "* depth ($l$) and height ($z$) scale\n",
    "* source function $S_\\nu$"
   ]
  },
  {
   "cell_type": "code",
   "execution_count": 2,
   "metadata": {},
   "outputs": [],
   "source": [
    "freq = numpy.linspace(-5, 5, 101)\n",
    "extinction = (numpy.exp(-freq ** 2) + 0.5 * freq / 50 + 0.1) / units.m / 100\n",
    "\n",
    "depth = numpy.logspace(0, 4, 200) * units.km\n",
    "height = -depth + depth.max()"
   ]
  },
  {
   "cell_type": "markdown",
   "metadata": {},
   "source": [
    "#### Calculations\n",
    "\n",
    "$$\n",
    "\\tau_\\nu (z_0) = -\\int_\\infty^{z_0} \\alpha_\\nu \\mathrm{d}z \\;\\;\\;\\; \\mathrm{(height\\; scale)}\n",
    "$$\n",
    "\n",
    "$$\n",
    "\\tau_\\nu (l_0) = \\int_0^{l_0} \\alpha_\\nu \\mathrm{d}l\\;\\;\\;\\; \\mathrm{(depth\\; scale)}\n",
    "$$\n",
    "\n",
    "Note that $z=\\infty$ is the same point as $l=0$, and corresponds to the surface of the emitting body (here assumed to have an infinite extent). The $\\tau$ integration can be done both ways.\n",
    "\n",
    "$$\n",
    "I_\\nu = \\int_0^\\infty S_\\nu e^{-\\tau_\\nu}\\mathrm{d}\\tau_\\nu.\n",
    "$$"
   ]
  },
  {
   "cell_type": "code",
   "execution_count": null,
   "metadata": {},
   "outputs": [],
   "source": []
  },
  {
   "cell_type": "markdown",
   "metadata": {},
   "source": [
    "Plotting"
   ]
  },
  {
   "cell_type": "code",
   "execution_count": null,
   "metadata": {},
   "outputs": [],
   "source": []
  }
 ],
 "metadata": {
  "kernelspec": {
   "display_name": "Python 3 (ipykernel)",
   "language": "python",
   "name": "python3"
  },
  "language_info": {
   "codemirror_mode": {
    "name": "ipython",
    "version": 3
   },
   "file_extension": ".py",
   "mimetype": "text/x-python",
   "name": "python",
   "nbconvert_exporter": "python",
   "pygments_lexer": "ipython3",
   "version": "3.10.8"
  }
 },
 "nbformat": 4,
 "nbformat_minor": 4
}
