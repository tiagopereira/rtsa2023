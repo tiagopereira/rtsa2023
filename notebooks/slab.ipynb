{
 "cells": [
  {
   "cell_type": "code",
   "execution_count": 3,
   "id": "9edda717-82e6-43d9-a805-af35c35ebcde",
   "metadata": {},
   "outputs": [
    {
     "data": {
      "application/vnd.jupyter.widget-view+json": {
       "model_id": "2d7102da21ea41b3a42a3de24cb3abc0",
       "version_major": 2,
       "version_minor": 0
      },
      "text/plain": [
       "HBox(children=(VBox(children=(interactive(children=(IntSlider(value=15, description='$I_0$'), IntSlider(value=…"
      ]
     },
     "metadata": {},
     "output_type": "display_data"
    }
   ],
   "source": [
    "import numpy as np\n",
    "import bqplot.pyplot as plt\n",
    "from ipywidgets import interactive, Layout, HBox, VBox, Box, Label, IntSlider, FloatSlider, HTMLMath\n",
    "\n",
    "def slab():\n",
    "    '''\n",
    "    Displays a widget illustrating line formation in a homogenous slab.\n",
    "    \n",
    "    Runs only in Jupyter notebook or JupyterLab. Requires bqplot.\n",
    "    '''\n",
    "    def _compute_slab(i0, source, tau_cont, tau_line):\n",
    "        '''\n",
    "        Calculates slab line profile.\n",
    "        '''\n",
    "        NPT = 101\n",
    "        MAX_DX = 5.\n",
    "        x = np.arange(NPT) - (NPT - 1.) / 2\n",
    "        x *= MAX_DX / x.max()\n",
    "        tau = tau_cont + tau_line * np.exp(-x * x)\n",
    "        extinc = np.exp(-tau)\n",
    "        intensity = float(i0) * extinc + float(source) * (1. - extinc)\n",
    "        return (x, intensity)\n",
    "    \n",
    "    I0 = 15\n",
    "    S = 65\n",
    "    x, y = _compute_slab(I0, S, 0.5, 0.9)\n",
    "    fig_layout = {'height': '100%', 'width': '70%'}\n",
    "    base = np.zeros_like(x)\n",
    "    fig = plt.figure(title='Slab line formation', layout=fig_layout)\n",
    "    int_plot = plt.plot(x, y, 'b-')\n",
    "    source_line = plt.plot(x, base + S, 'k--')\n",
    "    i0_line = plt.plot(x, base + I0, 'k:')\n",
    "    labels = plt.label(['I₀', 'I', 'S'], \n",
    "                       x=np.array([int_plot.x[0] + 0.2, int_plot.x[-1] - 0.2, int_plot.x[0] + 0.2]),\n",
    "                       y=np.array([i0_line.y[0], int_plot.y[0], source_line.y[0]]) + 2,\n",
    "                       colors=['black'])\n",
    "    plt.ylim(0, 100)\n",
    "    i0_slider = IntSlider(min=0, max=100, value=I0, description=r'$I_0$')\n",
    "    s_slider = IntSlider(min=0, max=100, value=S, description=r'$S$')\n",
    "    tau_c_slider = FloatSlider(min=0, max=1., step=0.01, value=0.5, description=r'$\\tau_{\\mathrm{cont}}$')\n",
    "    tau_l_slider = FloatSlider(min=0, max=10., step=0.01, value=0.9, description=r'$\\tau_{\\mathrm{line}}$')\n",
    "\n",
    "    def plot_update(i0=I0, source=S, tau_cont=0.5, tau_line=0.9):\n",
    "        x, y = _compute_slab(i0, source, tau_cont, tau_line)\n",
    "        int_plot.y = y\n",
    "        source_line.y = base + source\n",
    "        i0_line.y = base + i0\n",
    "        labels.y = np.array([i0, y[0], source]) + 2\n",
    "\n",
    "    widg = interactive(plot_update, i0=i0_slider, source=s_slider, tau_cont=tau_c_slider,\n",
    "              tau_line=tau_l_slider)\n",
    "    help_w = HTMLMath(\"<p><b>Purpose: </b>\"\n",
    "                      \"This widget-based procedure is used for \"\n",
    "                      \"studying spectral line formation in a \"\n",
    "                      \"homogeneous slab.</p>\"\n",
    "                      \"<p><b>Inputs:</b></p>\"\n",
    "                      \"<ul>\"\n",
    "                     r\"   <li>$I_0$: The incident intensity.</li>\"\n",
    "                     r\"   <li>$S$: The source function.</li>\"\n",
    "                     r\"   <li>$\\tau_{\\mathrm{cont}}$ : The continuum optical depth.</li>\"\n",
    "                     r\"   <li>$\\tau_{\\mathrm{line}}$ : The integrated optical depth in the spectral line.</li>\"\n",
    "                     \"</ul>\")\n",
    "\n",
    "    return HBox([VBox([widg, help_w], layout=Layout(width='33%', top='50px', left='5px')),\n",
    "                 Box([fig], layout=Layout(width='66%'))],\n",
    "                 layout=Layout(border='50px'))\n",
    "\n",
    "slab()"
   ]
  },
  {
   "cell_type": "code",
   "execution_count": null,
   "id": "bfdbebf9-1b31-4e41-b10c-7a7ff3324b26",
   "metadata": {},
   "outputs": [],
   "source": []
  }
 ],
 "metadata": {
  "kernelspec": {
   "display_name": "Python 3 (ipykernel)",
   "language": "python",
   "name": "python3"
  },
  "language_info": {
   "codemirror_mode": {
    "name": "ipython",
    "version": 3
   },
   "file_extension": ".py",
   "mimetype": "text/x-python",
   "name": "python",
   "nbconvert_exporter": "python",
   "pygments_lexer": "ipython3",
   "version": "3.10.8"
  }
 },
 "nbformat": 4,
 "nbformat_minor": 5
}
