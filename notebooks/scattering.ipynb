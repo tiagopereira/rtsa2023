{
 "cells": [
  {
   "cell_type": "markdown",
   "id": "b93cb091-5462-4c85-87ef-44a816f7bcd2",
   "metadata": {},
   "source": [
    "### Scattering in 1D plane-parallel atmosphere"
   ]
  },
  {
   "cell_type": "code",
   "execution_count": 1,
   "id": "33e545b5-411e-4d31-9dc8-67de12df3203",
   "metadata": {},
   "outputs": [],
   "source": [
    "import numpy \n",
    "from scipy.special import roots_legendre\n",
    "from scipy.sparse import diags\n",
    "\n",
    "import bqplot.pyplot as plt\n",
    "from bqplot import LinearScale, LogScale\n",
    "from ipywidgets import interactive, Layout, HBox, VBox, Box, Label, FloatSlider, Dropdown"
   ]
  },
  {
   "cell_type": "code",
   "execution_count": 2,
   "id": "c127c145-b83a-45df-9c91-aa0a1700d712",
   "metadata": {
    "jupyter": {
     "source_hidden": true
    },
    "tags": []
   },
   "outputs": [],
   "source": [
    "def Tmatrix(τ, μ, format=None):\n",
    "    tau = τ / μ\n",
    "    n = len(tau)\n",
    "    Δτ = numpy.roll(tau, -1) - tau\n",
    "    Δτm = numpy.roll(Δτ, 1)\n",
    "    \n",
    "    A = 2 / (Δτm * (Δτm + Δτ))\n",
    "    B = 1 + 2 / (Δτ * Δτm)\n",
    "    C = 2 / (Δτ * (Δτm + Δτ))\n",
    "    \n",
    "    # Boundary conditions top\n",
    "    B[0] = 2 / Δτ[0]**2 + 2 / Δτ[0] + 1\n",
    "    C[0] = 2 / Δτ[0]**2\n",
    "    # Boundary conditions bottom\n",
    "    A[n-1] = 2 / (Δτ[n-2] * (Δτ[n-2] + 2))\n",
    "    B[n-1] = (2 + 2*Δτ[n-2] + Δτ[n-2]**2) / (Δτ[n-2] * (Δτ[n-2] + 2))\n",
    "    \n",
    "    if format == 'banded':  # for use with scipy.linalg.solve_banded\n",
    "        T = numpy.zeros((3, n))\n",
    "        T[0, 1:] = -C[:-1]\n",
    "        T[1] = B\n",
    "        T[2, :-1] = -A[1:]\n",
    "        return T\n",
    "    elif format == 'sparse':  # for use with scipy.sparse.linalg.spsolve\n",
    "        return diags([-A[1:], B, -C[:-1]], [-1, 0, 1], format='csc')\n",
    "    else:  # normal matrix\n",
    "        return diags([-A[1:], B, -C[:-1]], [-1, 0, 1]).toarray()\n",
    "    \n",
    "    \n",
    "\n",
    "def quadrature(k=5):\n",
    "    \"\"\"\n",
    "    Returns the nodes and weights form a Gaussian\n",
    "    quadrature with k points. Rescaled to an interval\n",
    "    from [0, 1].\n",
    "    \"\"\"\n",
    "    nodes, weights = roots_legendre(k)\n",
    "    return nodes/2 + 0.5, weights/2"
   ]
  },
  {
   "cell_type": "code",
   "execution_count": 7,
   "id": "72b76731-efa6-476d-a102-43ba42e4d837",
   "metadata": {
    "tags": []
   },
   "outputs": [],
   "source": [
    "def scattering_atmos():\n",
    "    def _compute_radiation(τ, ε, B):\n",
    "        n = len(τ)\n",
    "        Λ = numpy.zeros((n, n))\n",
    "        for mu, w in zip(*quadrature()):\n",
    "            T = Tmatrix(τ, mu)\n",
    "            Λ += w * numpy.linalg.inv(T)\n",
    "        M = numpy.linalg.inv(numpy.eye(n) - (1 - ε) * Λ)\n",
    "        S = ε * numpy.dot(M, B)\n",
    "        J = numpy.dot(Λ, S)\n",
    "        return S, J\n",
    "    \n",
    "    eps = 1e-1\n",
    "    eta = 1e3\n",
    "    tau = numpy.logspace(-9, 2, 100)\n",
    "    B = {\"Chromosphere\": 1 + 0.2 * tau + 18.7 * numpy.exp(-1.44e4 * tau),\n",
    "         \"Photosphere\": 1 + 1.5*tau,\n",
    "         \"Constant\": numpy.ones_like(tau)}\n",
    "    B_initial = \"Constant\"\n",
    "    \n",
    "    S, J = _compute_radiation(tau * eta, eps, B[B_initial])\n",
    "    fig_layout = Layout(align_items='stretch', width='70%')\n",
    "    fig = plt.figure(title='Coherent scattering in a plane-parallel atmosphere', layout=fig_layout)\n",
    "    B_plot = plt.plot(tau, B[B_initial], 'b-', scales={'x': LogScale(), 'y': LogScale()})\n",
    "    S_plot = plt.plot(tau, S, 'r--')\n",
    "    J_plot = plt.plot(tau, J, 'k:')\n",
    "    plt.xlabel(\"τ continuum\")\n",
    "    labels = plt.label(['B', 'S', 'J'], \n",
    "                       x=[B_plot.x[0], S_plot.x[0]*2, J_plot.x[0]],\n",
    "                       y=[B_plot.y[0]* 1.5, S_plot.y[0]*1.5, J_plot.y[0]*1.2],\n",
    "                       colors=['black'])\n",
    "    eps_slider = FloatSlider(min=-6, max=0, step=0.02, value=-1, description=r'$\\log\\varepsilon$')\n",
    "    eta_slider = FloatSlider(min=0, max=9., step=0.02, value=2, description=r'$\\log\\eta$')\n",
    "    B_selector = Dropdown(options=[\"Chromosphere\", \"Photosphere\", \"Constant\"],\n",
    "                          value=B_initial, description='B')\n",
    "    \n",
    "    def plot_update(logε=eps, logη=eta, B_shape=\"Constant\"):\n",
    "        S, J = _compute_radiation(tau * 10**logη, 10**logε, B[B_shape])\n",
    "        B_plot.y = B[B_shape]\n",
    "        S_plot.y = S\n",
    "        J_plot.y = J\n",
    "        labels.y = [B[B_shape][0]*1.2, S[0]*1.2, J[0]*1.2]\n",
    "\n",
    "        \n",
    "    widg = interactive(plot_update, logε=eps_slider, logη=eta_slider, B_shape=B_selector)\n",
    "    controls = HBox([widg.children[2], widg.children[0], widg.children[1]],\n",
    "                    layout=Layout(align_items='stretch', width='100%'))\n",
    "    return Box([controls, fig], layout=Layout(\n",
    "        display='flex',\n",
    "        flex_flow='column',\n",
    "        align_items='stretch',\n",
    "        width='100%',\n",
    "    ))\n",
    "    return VBox([controls, fig], layout=Layout(height='100%'))\n",
    "    \n",
    " "
   ]
  },
  {
   "cell_type": "code",
   "execution_count": 8,
   "id": "9032fbaa-9ecb-406c-ac97-18ee31cd54f4",
   "metadata": {},
   "outputs": [
    {
     "data": {
      "application/vnd.jupyter.widget-view+json": {
       "model_id": "5b4c2caf8db340cbb5d2487282521a8e",
       "version_major": 2,
       "version_minor": 0
      },
      "text/plain": [
       "Box(children=(HBox(children=(Dropdown(description='B', index=2, options=('Chromosphere', 'Photosphere', 'Const…"
      ]
     },
     "metadata": {},
     "output_type": "display_data"
    }
   ],
   "source": [
    "scattering_atmos()"
   ]
  }
 ],
 "metadata": {
  "kernelspec": {
   "display_name": "Python 3 (ipykernel)",
   "language": "python",
   "name": "python3"
  },
  "language_info": {
   "codemirror_mode": {
    "name": "ipython",
    "version": 3
   },
   "file_extension": ".py",
   "mimetype": "text/x-python",
   "name": "python",
   "nbconvert_exporter": "python",
   "pygments_lexer": "ipython3",
   "version": "3.10.8"
  }
 },
 "nbformat": 4,
 "nbformat_minor": 5
}
